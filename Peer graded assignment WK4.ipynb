{
  "metadata": {
    "kernelspec": {
      "name": "python",
      "display_name": "Pyolite",
      "language": "python"
    },
    "language_info": {
      "codemirror_mode": {
        "name": "python",
        "version": 3
      },
      "file_extension": ".py",
      "mimetype": "text/x-python",
      "name": "python",
      "nbconvert_exporter": "python",
      "pygments_lexer": "ipython3",
      "version": "3.8"
    }
  },
  "nbformat_minor": 4,
  "nbformat": 4,
  "cells": [
    {
      "cell_type": "markdown",
      "source": "<center>\n    <img src=\"https://cf-courses-data.s3.us.cloud-object-storage.appdomain.cloud/IBMDeveloperSkillsNetwork-DS0105EN-SkillsNetwork/labs/Module2/images/SN_web_lightmode.png\" width=\"300\" alt=\"cognitiveclass.ai logo\">\n</center>\n",
      "metadata": {}
    },
    {
      "cell_type": "markdown",
      "source": "# \"My Jupyter Notebook on IBM Watson Studio\"",
      "metadata": {}
    },
    {
      "cell_type": "markdown",
      "source": "**Ralph Reed**\nManufacturing Engineer",
      "metadata": {}
    },
    {
      "cell_type": "markdown",
      "source": "*I am interested in data science because I like finding answers in data to questions that no one is able to answer.*\n*I am also very curious how Data Science can show patterns in cryptocurrency to help people and industry manage risks better.*",
      "metadata": {}
    },
    {
      "cell_type": "markdown",
      "source": "### The following code will display the current date.",
      "metadata": {}
    },
    {
      "cell_type": "code",
      "source": "# Import the datetime module\nimport datetime\n\n# Get today's date\ntoday = datetime.date.today()\n\n# Print the date\nprint(\"Today's date is:\", today)\n",
      "metadata": {
        "trusted": true
      },
      "execution_count": 1,
      "outputs": [
        {
          "name": "stdout",
          "text": "Today's date is: 2023-03-06\n",
          "output_type": "stream"
        }
      ]
    },
    {
      "cell_type": "markdown",
      "source": "- Goal for completing Course\n  - Learn Something New\n  - More Knowledge\n  \n[Click here to see what I do.](https://www.hondajet.com)\n\n> The best way to predict the future is to invent it.\n> - Alan Kay  ",
      "metadata": {}
    },
    {
      "cell_type": "code",
      "source": "",
      "metadata": {},
      "execution_count": null,
      "outputs": []
    }
  ]
}